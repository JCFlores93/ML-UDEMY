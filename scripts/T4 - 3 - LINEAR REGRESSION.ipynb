{
 "cells": [
  {
   "cell_type": "markdown",
   "metadata": {},
   "source": [
    "# Dividir el dataset en conjunto de entrenamiento y de testing"
   ]
  },
  {
   "cell_type": "code",
   "execution_count": 3,
   "metadata": {
    "ExecuteTime": {
     "end_time": "2018-08-05T05:51:35.758179Z",
     "start_time": "2018-08-05T05:51:35.754445Z"
    }
   },
   "outputs": [],
   "source": [
    "import pandas as pd\n",
    "import numpy as np\n",
    "import matplotlib.pyplot as plt"
   ]
  },
  {
   "cell_type": "code",
   "execution_count": 2,
   "metadata": {
    "ExecuteTime": {
     "end_time": "2018-08-05T05:47:03.259256Z",
     "start_time": "2018-08-05T05:47:03.243272Z"
    }
   },
   "outputs": [],
   "source": [
    "data = pd.read_csv(\"../datasets/ads/Advertising.csv\")"
   ]
  },
  {
   "cell_type": "code",
   "execution_count": 4,
   "metadata": {
    "ExecuteTime": {
     "end_time": "2018-08-05T05:54:40.607968Z",
     "start_time": "2018-08-05T05:54:40.604135Z"
    }
   },
   "outputs": [],
   "source": [
    "a = np.random.randn(len(data))"
   ]
  },
  {
   "cell_type": "code",
   "execution_count": 5,
   "metadata": {
    "ExecuteTime": {
     "end_time": "2018-08-05T05:54:52.767367Z",
     "start_time": "2018-08-05T05:54:52.587755Z"
    }
   },
   "outputs": [
    {
     "data": {
      "text/plain": [
       "(array([  1.,   7.,  12.,  31.,  40.,  44.,  41.,  12.,   7.,   5.]),\n",
       " array([-2.70332932, -2.18062127, -1.65791322, -1.13520518, -0.61249713,\n",
       "        -0.08978908,  0.43291897,  0.95562702,  1.47833506,  2.00104311,\n",
       "         2.52375116]),\n",
       " <a list of 10 Patch objects>)"
      ]
     },
     "execution_count": 5,
     "metadata": {},
     "output_type": "execute_result"
    },
    {
     "data": {
      "image/png": "[encoded data removed]",
      "text/plain": [
       "<Figure size 432x288 with 1 Axes>"
      ]
     },
     "metadata": {},
     "output_type": "display_data"
    }
   ],
   "source": [
    "plt.hist(a)"
   ]
  },
  {
   "cell_type": "code",
   "execution_count": 7,
   "metadata": {
    "ExecuteTime": {
     "end_time": "2018-08-05T05:55:41.896197Z",
     "start_time": "2018-08-05T05:55:41.851090Z"
    }
   },
   "outputs": [],
   "source": [
    "check = (a< 0.8)\n",
    "training = data[check]\n",
    "testing = data[~check]"
   ]
  },
  {
   "cell_type": "code",
   "execution_count": 8,
   "metadata": {
    "ExecuteTime": {
     "end_time": "2018-08-05T05:55:55.511396Z",
     "start_time": "2018-08-05T05:55:55.506384Z"
    }
   },
   "outputs": [
    {
     "data": {
      "text/plain": [
       "(160, 40)"
      ]
     },
     "execution_count": 8,
     "metadata": {},
     "output_type": "execute_result"
    }
   ],
   "source": [
    "len(training), len(testing)"
   ]
  },
  {
   "cell_type": "code",
   "execution_count": 9,
   "metadata": {
    "ExecuteTime": {
     "end_time": "2018-08-05T05:56:49.779973Z",
     "start_time": "2018-08-05T05:56:49.282309Z"
    }
   },
   "outputs": [],
   "source": [
    "import statsmodels.formula.api as smf"
   ]
  },
  {
   "cell_type": "code",
   "execution_count": 12,
   "metadata": {
    "ExecuteTime": {
     "end_time": "2018-08-05T05:57:57.727408Z",
     "start_time": "2018-08-05T05:57:57.716633Z"
    }
   },
   "outputs": [],
   "source": [
    "lm = smf.ols(formula=\"Sales~TV+Radio\", data=training).fit()"
   ]
  },
  {
   "cell_type": "code",
   "execution_count": 13,
   "metadata": {
    "ExecuteTime": {
     "end_time": "2018-08-05T05:58:03.539547Z",
     "start_time": "2018-08-05T05:58:03.515613Z"
    }
   },
   "outputs": [
    {
     "data": {
      "text/html": [
       "<table class=\"simpletable\">\n",
       "<caption>OLS Regression Results</caption>\n",
       "<tr>\n",
       "  <th>Dep. Variable:</th>          <td>Sales</td>      <th>  R-squared:         </th> <td>   0.912</td>\n",
       "</tr>\n",
       "<tr>\n",
       "  <th>Model:</th>                   <td>OLS</td>       <th>  Adj. R-squared:    </th> <td>   0.911</td>\n",
       "</tr>\n",
       "<tr>\n",
       "  <th>Method:</th>             <td>Least Squares</td>  <th>  F-statistic:       </th> <td>   814.3</td>\n",
       "</tr>\n",
       "<tr>\n",
       "  <th>Date:</th>             <td>Sun, 05 Aug 2018</td> <th>  Prob (F-statistic):</th> <td>1.29e-83</td>\n",
       "</tr>\n",
       "<tr>\n",
       "  <th>Time:</th>                 <td>00:58:03</td>     <th>  Log-Likelihood:    </th> <td> -298.30</td>\n",
       "</tr>\n",
       "<tr>\n",
       "  <th>No. Observations:</th>      <td>   160</td>      <th>  AIC:               </th> <td>   602.6</td>\n",
       "</tr>\n",
       "<tr>\n",
       "  <th>Df Residuals:</th>          <td>   157</td>      <th>  BIC:               </th> <td>   611.8</td>\n",
       "</tr>\n",
       "<tr>\n",
       "  <th>Df Model:</th>              <td>     2</td>      <th>                     </th>     <td> </td>   \n",
       "</tr>\n",
       "<tr>\n",
       "  <th>Covariance Type:</th>      <td>nonrobust</td>    <th>                     </th>     <td> </td>   \n",
       "</tr>\n",
       "</table>\n",
       "<table class=\"simpletable\">\n",
       "<tr>\n",
       "      <td></td>         <th>coef</th>     <th>std err</th>      <th>t</th>      <th>P>|t|</th>  <th>[0.025</th>    <th>0.975]</th>  \n",
       "</tr>\n",
       "<tr>\n",
       "  <th>Intercept</th> <td>    2.9933</td> <td>    0.301</td> <td>    9.936</td> <td> 0.000</td> <td>    2.398</td> <td>    3.588</td>\n",
       "</tr>\n",
       "<tr>\n",
       "  <th>TV</th>        <td>    0.0445</td> <td>    0.001</td> <td>   30.932</td> <td> 0.000</td> <td>    0.042</td> <td>    0.047</td>\n",
       "</tr>\n",
       "<tr>\n",
       "  <th>Radio</th>     <td>    0.1957</td> <td>    0.008</td> <td>   23.203</td> <td> 0.000</td> <td>    0.179</td> <td>    0.212</td>\n",
       "</tr>\n",
       "</table>\n",
       "<table class=\"simpletable\">\n",
       "<tr>\n",
       "  <th>Omnibus:</th>       <td>19.299</td> <th>  Durbin-Watson:     </th> <td>   2.093</td>\n",
       "</tr>\n",
       "<tr>\n",
       "  <th>Prob(Omnibus):</th> <td> 0.000</td> <th>  Jarque-Bera (JB):  </th> <td>  22.263</td>\n",
       "</tr>\n",
       "<tr>\n",
       "  <th>Skew:</th>          <td>-0.865</td> <th>  Prob(JB):          </th> <td>1.46e-05</td>\n",
       "</tr>\n",
       "<tr>\n",
       "  <th>Kurtosis:</th>      <td> 3.589</td> <th>  Cond. No.          </th> <td>    417.</td>\n",
       "</tr>\n",
       "</table><br/><br/>Warnings:<br/>[1] Standard Errors assume that the covariance matrix of the errors is correctly specified."
      ],
      "text/plain": [
       "<class 'statsmodels.iolib.summary.Summary'>\n",
       "\"\"\"\n",
       "                            OLS Regression Results                            \n",
       "==============================================================================\n",
       "Dep. Variable:                  Sales   R-squared:                       0.912\n",
       "Model:                            OLS   Adj. R-squared:                  0.911\n",
       "Method:                 Least Squares   F-statistic:                     814.3\n",
       "Date:                Sun, 05 Aug 2018   Prob (F-statistic):           1.29e-83\n",
       "Time:                        00:58:03   Log-Likelihood:                -298.30\n",
       "No. Observations:                 160   AIC:                             602.6\n",
       "Df Residuals:                     157   BIC:                             611.8\n",
       "Df Model:                           2                                         \n",
       "Covariance Type:            nonrobust                                         \n",
       "==============================================================================\n",
       "                 coef    std err          t      P>|t|      [0.025      0.975]\n",
       "------------------------------------------------------------------------------\n",
       "Intercept      2.9933      0.301      9.936      0.000       2.398       3.588\n",
       "TV             0.0445      0.001     30.932      0.000       0.042       0.047\n",
       "Radio          0.1957      0.008     23.203      0.000       0.179       0.212\n",
       "==============================================================================\n",
       "Omnibus:                       19.299   Durbin-Watson:                   2.093\n",
       "Prob(Omnibus):                  0.000   Jarque-Bera (JB):               22.263\n",
       "Skew:                          -0.865   Prob(JB):                     1.46e-05\n",
       "Kurtosis:                       3.589   Cond. No.                         417.\n",
       "==============================================================================\n",
       "\n",
       "Warnings:\n",
       "[1] Standard Errors assume that the covariance matrix of the errors is correctly specified.\n",
       "\"\"\""
      ]
     },
     "execution_count": 13,
     "metadata": {},
     "output_type": "execute_result"
    }
   ],
   "source": [
    "lm.summary()"
   ]
  },
  {
   "cell_type": "markdown",
   "metadata": {},
   "source": [
    "Sales = 2.9933 + 0.0445 * TV + 0.1957 * Radio"
   ]
  },
  {
   "cell_type": "markdown",
   "metadata": {},
   "source": [
    "## Validacion del modelo con el conjunto de testing"
   ]
  },
  {
   "cell_type": "code",
   "execution_count": 14,
   "metadata": {
    "ExecuteTime": {
     "end_time": "2018-08-05T06:01:08.683669Z",
     "start_time": "2018-08-05T06:01:08.671080Z"
    }
   },
   "outputs": [
    {
     "data": {
      "text/plain": [
       "2      12.742477\n",
       "3      17.822986\n",
       "20     18.140545\n",
       "32      7.615444\n",
       "38     10.138184\n",
       "39     20.525197\n",
       "41     17.412443\n",
       "42     21.489432\n",
       "43     13.851145\n",
       "48     16.203446\n",
       "49      8.262369\n",
       "56      8.817899\n",
       "57     12.816362\n",
       "60      5.767205\n",
       "65      7.886176\n",
       "84     20.916749\n",
       "88     11.916223\n",
       "89     17.238095\n",
       "92     19.244510\n",
       "97     15.337407\n",
       "99     17.175382\n",
       "113    16.359088\n",
       "114    15.635136\n",
       "115    13.187664\n",
       "124    19.535144\n",
       "125     9.185962\n",
       "126    10.953871\n",
       "130    10.774686\n",
       "139    19.819246\n",
       "141    18.547572\n",
       "150    18.214109\n",
       "151    10.025754\n",
       "161    13.816286\n",
       "165    14.101690\n",
       "171    14.409361\n",
       "173    11.882194\n",
       "174    13.562840\n",
       "180    10.475993\n",
       "191     8.469211\n",
       "198    23.842804\n",
       "dtype: float64"
      ]
     },
     "execution_count": 14,
     "metadata": {},
     "output_type": "execute_result"
    }
   ],
   "source": [
    "sales_pred = lm.predict(testing)\n",
    "sales_pred"
   ]
  },
  {
   "cell_type": "code",
   "execution_count": 16,
   "metadata": {
    "ExecuteTime": {
     "end_time": "2018-08-05T06:02:05.626570Z",
     "start_time": "2018-08-05T06:02:05.621824Z"
    }
   },
   "outputs": [
    {
     "data": {
      "text/plain": [
       "172.53857249984517"
      ]
     },
     "execution_count": 16,
     "metadata": {},
     "output_type": "execute_result"
    }
   ],
   "source": [
    "SSD =  sum((testing.Sales - sales_pred)**2)\n",
    "SSD"
   ]
  },
  {
   "cell_type": "code",
   "execution_count": 18,
   "metadata": {
    "ExecuteTime": {
     "end_time": "2018-08-05T06:03:05.824075Z",
     "start_time": "2018-08-05T06:03:05.819089Z"
    }
   },
   "outputs": [
    {
     "data": {
      "text/plain": [
       "2.159445452461807"
      ]
     },
     "execution_count": 18,
     "metadata": {},
     "output_type": "execute_result"
    }
   ],
   "source": [
    "RSE = np.sqrt(SSD/(len(testing)-2-1))\n",
    "RSE"
   ]
  },
  {
   "cell_type": "code",
   "execution_count": 19,
   "metadata": {
    "ExecuteTime": {
     "end_time": "2018-08-05T06:03:57.755000Z",
     "start_time": "2018-08-05T06:03:57.749007Z"
    }
   },
   "outputs": [
    {
     "data": {
      "text/plain": [
       "0.15432877987935018"
      ]
     },
     "execution_count": 19,
     "metadata": {},
     "output_type": "execute_result"
    }
   ],
   "source": [
    "sales_mean = np.mean(testing.Sales)\n",
    "error = RSE / sales_mean\n",
    "error"
   ]
  },
  {
   "cell_type": "code",
   "execution_count": null,
   "metadata": {},
   "outputs": [],
   "source": []
  },
  {
   "cell_type": "code",
   "execution_count": null,
   "metadata": {},
   "outputs": [],
   "source": []
  }
 ],
 "metadata": {
  "kernelspec": {
   "display_name": "Python 3",
   "language": "python",
   "name": "python3"
  },
  "language_info": {
   "codemirror_mode": {
    "name": "ipython",
    "version": 3
   },
   "file_extension": ".py",
   "mimetype": "text/x-python",
   "name": "python",
   "nbconvert_exporter": "python",
   "pygments_lexer": "ipython3",
   "version": "3.6.5"
  },
  "varInspector": {
   "cols": {
    "lenName": 16,
    "lenType": 16,
    "lenVar": 40
   },
   "kernels_config": {
    "python": {
     "delete_cmd_postfix": "",
     "delete_cmd_prefix": "del ",
     "library": "var_list.py",
     "varRefreshCmd": "print(var_dic_list())"
    },
    "r": {
     "delete_cmd_postfix": ") ",
     "delete_cmd_prefix": "rm(",
     "library": "var_list.r",
     "varRefreshCmd": "cat(var_dic_list()) "
    }
   },
   "types_to_exclude": [
    "module",
    "function",
    "builtin_function_or_method",
    "instance",
    "_Feature"
   ],
   "window_display": false
  }
 },
 "nbformat": 4,
 "nbformat_minor": 2
}
