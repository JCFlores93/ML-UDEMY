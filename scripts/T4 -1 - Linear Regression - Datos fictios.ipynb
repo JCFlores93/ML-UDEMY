{
 "cells": [
  {
   "cell_type": "markdown",
   "metadata": {},
   "source": [
    "# Modelos de Regresión Lineal\n",
    "## Modelo con datos simulados\n",
    "\n",
    "* y = a + b * x\n",
    "* x: 100 valores distribuidos según una N(1.5,2.5)\n",
    "* Ye = 5 + 1.9 * x + e\n",
    "* e: estará distribuida según una N(0, 0.8)"
   ]
  },
  {
   "cell_type": "code",
   "execution_count": 1,
   "metadata": {
    "ExecuteTime": {
     "end_time": "2018-08-04T02:14:48.502735Z",
     "start_time": "2018-08-04T02:14:48.079875Z"
    }
   },
   "outputs": [],
   "source": [
    "import pandas as pd\n",
    "import numpy as np"
   ]
  },
  {
   "cell_type": "code",
   "execution_count": 2,
   "metadata": {
    "ExecuteTime": {
     "end_time": "2018-08-04T02:14:48.564711Z",
     "start_time": "2018-08-04T02:14:48.505718Z"
    }
   },
   "outputs": [],
   "source": [
    "x = 1.5 + 2.5 * np.random.randn(100)"
   ]
  },
  {
   "cell_type": "code",
   "execution_count": null,
   "metadata": {},
   "outputs": [],
   "source": []
  },
  {
   "cell_type": "code",
   "execution_count": 3,
   "metadata": {
    "ExecuteTime": {
     "end_time": "2018-08-04T02:14:48.696924Z",
     "start_time": "2018-08-04T02:14:48.569698Z"
    }
   },
   "outputs": [],
   "source": [
    "res =  0 + 0.8 * np.random.randn(100)"
   ]
  },
  {
   "cell_type": "code",
   "execution_count": 4,
   "metadata": {
    "ExecuteTime": {
     "end_time": "2018-08-04T02:14:48.829540Z",
     "start_time": "2018-08-04T02:14:48.699888Z"
    }
   },
   "outputs": [],
   "source": [
    "y_pred = 5 + 1.9 * x"
   ]
  },
  {
   "cell_type": "code",
   "execution_count": 5,
   "metadata": {
    "ExecuteTime": {
     "end_time": "2018-08-04T02:14:48.929484Z",
     "start_time": "2018-08-04T02:14:48.831532Z"
    }
   },
   "outputs": [],
   "source": [
    "y_act = 5 + 1.9 * x  + res"
   ]
  },
  {
   "cell_type": "code",
   "execution_count": 6,
   "metadata": {
    "ExecuteTime": {
     "end_time": "2018-08-04T02:14:49.012066Z",
     "start_time": "2018-08-04T02:14:48.931478Z"
    }
   },
   "outputs": [],
   "source": [
    "x_list = x.tolist()\n",
    "y_pred_list = y_pred.tolist()\n",
    "y_act_list = y_act.tolist()"
   ]
  },
  {
   "cell_type": "code",
   "execution_count": 7,
   "metadata": {
    "ExecuteTime": {
     "end_time": "2018-08-04T02:14:49.104316Z",
     "start_time": "2018-08-04T02:14:49.013075Z"
    }
   },
   "outputs": [],
   "source": [
    "data = pd.DataFrame(\n",
    "    {\n",
    "        \"x\": x_list,\n",
    "        \"y_actual\": y_act_list,\n",
    "        \"y_prediccion\": y_pred_list \n",
    "    }\n",
    ")"
   ]
  },
  {
   "cell_type": "code",
   "execution_count": 8,
   "metadata": {
    "ExecuteTime": {
     "end_time": "2018-08-04T02:14:49.220070Z",
     "start_time": "2018-08-04T02:14:49.105314Z"
    }
   },
   "outputs": [
    {
     "data": {
      "text/html": [
       "<div>\n",
       "<style scoped>\n",
       "    .dataframe tbody tr th:only-of-type {\n",
       "        vertical-align: middle;\n",
       "    }\n",
       "\n",
       "    .dataframe tbody tr th {\n",
       "        vertical-align: top;\n",
       "    }\n",
       "\n",
       "    .dataframe thead th {\n",
       "        text-align: right;\n",
       "    }\n",
       "</style>\n",
       "<table border=\"1\" class=\"dataframe\">\n",
       "  <thead>\n",
       "    <tr style=\"text-align: right;\">\n",
       "      <th></th>\n",
       "      <th>x</th>\n",
       "      <th>y_actual</th>\n",
       "      <th>y_prediccion</th>\n",
       "    </tr>\n",
       "  </thead>\n",
       "  <tbody>\n",
       "    <tr>\n",
       "      <th>0</th>\n",
       "      <td>1.896139</td>\n",
       "      <td>7.434697</td>\n",
       "      <td>8.602664</td>\n",
       "    </tr>\n",
       "    <tr>\n",
       "      <th>1</th>\n",
       "      <td>-0.943266</td>\n",
       "      <td>4.382299</td>\n",
       "      <td>3.207794</td>\n",
       "    </tr>\n",
       "    <tr>\n",
       "      <th>2</th>\n",
       "      <td>4.495870</td>\n",
       "      <td>15.936925</td>\n",
       "      <td>13.542153</td>\n",
       "    </tr>\n",
       "    <tr>\n",
       "      <th>3</th>\n",
       "      <td>-3.116930</td>\n",
       "      <td>-1.231124</td>\n",
       "      <td>-0.922168</td>\n",
       "    </tr>\n",
       "    <tr>\n",
       "      <th>4</th>\n",
       "      <td>-0.906378</td>\n",
       "      <td>4.940708</td>\n",
       "      <td>3.277882</td>\n",
       "    </tr>\n",
       "  </tbody>\n",
       "</table>\n",
       "</div>"
      ],
      "text/plain": [
       "          x   y_actual  y_prediccion\n",
       "0  1.896139   7.434697      8.602664\n",
       "1 -0.943266   4.382299      3.207794\n",
       "2  4.495870  15.936925     13.542153\n",
       "3 -3.116930  -1.231124     -0.922168\n",
       "4 -0.906378   4.940708      3.277882"
      ]
     },
     "execution_count": 8,
     "metadata": {},
     "output_type": "execute_result"
    }
   ],
   "source": [
    "data.head()"
   ]
  },
  {
   "cell_type": "code",
   "execution_count": 9,
   "metadata": {
    "ExecuteTime": {
     "end_time": "2018-08-04T02:14:49.525473Z",
     "start_time": "2018-08-04T02:14:49.222064Z"
    }
   },
   "outputs": [],
   "source": [
    "import matplotlib.pyplot as plt"
   ]
  },
  {
   "cell_type": "code",
   "execution_count": 10,
   "metadata": {
    "ExecuteTime": {
     "end_time": "2018-08-04T02:14:49.532455Z",
     "start_time": "2018-08-04T02:14:49.527468Z"
    }
   },
   "outputs": [],
   "source": [
    "y_mean = [np.mean(y_act) for i in range(1, len(x_list) + 1 )]"
   ]
  },
  {
   "cell_type": "code",
   "execution_count": 11,
   "metadata": {
    "ExecuteTime": {
     "end_time": "2018-08-04T02:14:49.834385Z",
     "start_time": "2018-08-04T02:14:49.534457Z"
    }
   },
   "outputs": [
    {
     "data": {
      "text/plain": [
       "Text(0.5,1,'Valor actual vs Prediccion')"
      ]
     },
     "execution_count": 11,
     "metadata": {},
     "output_type": "execute_result"
    },
    {
     "data": {
      "image/png": "[encoded data removed]",
      "text/plain": [
       "<Figure size 432x288 with 1 Axes>"
      ]
     },
     "metadata": {},
     "output_type": "display_data"
    }
   ],
   "source": [
    "%matplotlib inline\n",
    "plt.plot(x, y_pred)\n",
    "plt.plot(x, y_act, \"ro\")\n",
    "plt.plot(x, y_mean)\n",
    "plt.title(\"Valor actual vs Prediccion\")"
   ]
  },
  {
   "cell_type": "code",
   "execution_count": 12,
   "metadata": {
    "ExecuteTime": {
     "end_time": "2018-08-04T02:14:50.065868Z",
     "start_time": "2018-08-04T02:14:49.836402Z"
    }
   },
   "outputs": [],
   "source": [
    "data[\"SSR\"] = (data[\"y_prediccion\"] - np.mean(y_act))**2\n",
    "data[\"SSD\"] = (data[\"y_prediccion\"] -data[\"y_actual\"])**2\n",
    "data[\"SST\"] = (data[\"y_actual\"] - np.mean(y_act))**2\n"
   ]
  },
  {
   "cell_type": "code",
   "execution_count": 13,
   "metadata": {
    "ExecuteTime": {
     "end_time": "2018-08-04T02:14:50.081793Z",
     "start_time": "2018-08-04T02:14:50.067842Z"
    }
   },
   "outputs": [
    {
     "data": {
      "text/html": [
       "<div>\n",
       "<style scoped>\n",
       "    .dataframe tbody tr th:only-of-type {\n",
       "        vertical-align: middle;\n",
       "    }\n",
       "\n",
       "    .dataframe tbody tr th {\n",
       "        vertical-align: top;\n",
       "    }\n",
       "\n",
       "    .dataframe thead th {\n",
       "        text-align: right;\n",
       "    }\n",
       "</style>\n",
       "<table border=\"1\" class=\"dataframe\">\n",
       "  <thead>\n",
       "    <tr style=\"text-align: right;\">\n",
       "      <th></th>\n",
       "      <th>x</th>\n",
       "      <th>y_actual</th>\n",
       "      <th>y_prediccion</th>\n",
       "      <th>SSR</th>\n",
       "      <th>SSD</th>\n",
       "      <th>SST</th>\n",
       "    </tr>\n",
       "  </thead>\n",
       "  <tbody>\n",
       "    <tr>\n",
       "      <th>0</th>\n",
       "      <td>1.896139</td>\n",
       "      <td>7.434697</td>\n",
       "      <td>8.602664</td>\n",
       "      <td>1.490200</td>\n",
       "      <td>1.364147</td>\n",
       "      <td>0.002785</td>\n",
       "    </tr>\n",
       "    <tr>\n",
       "      <th>1</th>\n",
       "      <td>-0.943266</td>\n",
       "      <td>4.382299</td>\n",
       "      <td>3.207794</td>\n",
       "      <td>17.423380</td>\n",
       "      <td>1.379462</td>\n",
       "      <td>8.997764</td>\n",
       "    </tr>\n",
       "    <tr>\n",
       "      <th>2</th>\n",
       "      <td>4.495870</td>\n",
       "      <td>15.936925</td>\n",
       "      <td>13.542153</td>\n",
       "      <td>37.948397</td>\n",
       "      <td>5.734932</td>\n",
       "      <td>73.188004</td>\n",
       "    </tr>\n",
       "    <tr>\n",
       "      <th>3</th>\n",
       "      <td>-3.116930</td>\n",
       "      <td>-1.231124</td>\n",
       "      <td>-0.922168</td>\n",
       "      <td>68.957976</td>\n",
       "      <td>0.095454</td>\n",
       "      <td>74.184641</td>\n",
       "    </tr>\n",
       "    <tr>\n",
       "      <th>4</th>\n",
       "      <td>-0.906378</td>\n",
       "      <td>4.940708</td>\n",
       "      <td>3.277882</td>\n",
       "      <td>16.843175</td>\n",
       "      <td>2.764990</td>\n",
       "      <td>5.959545</td>\n",
       "    </tr>\n",
       "  </tbody>\n",
       "</table>\n",
       "</div>"
      ],
      "text/plain": [
       "          x   y_actual  y_prediccion        SSR       SSD        SST\n",
       "0  1.896139   7.434697      8.602664   1.490200  1.364147   0.002785\n",
       "1 -0.943266   4.382299      3.207794  17.423380  1.379462   8.997764\n",
       "2  4.495870  15.936925     13.542153  37.948397  5.734932  73.188004\n",
       "3 -3.116930  -1.231124     -0.922168  68.957976  0.095454  74.184641\n",
       "4 -0.906378   4.940708      3.277882  16.843175  2.764990   5.959545"
      ]
     },
     "execution_count": 13,
     "metadata": {},
     "output_type": "execute_result"
    }
   ],
   "source": [
    "data.head()"
   ]
  },
  {
   "cell_type": "code",
   "execution_count": 14,
   "metadata": {
    "ExecuteTime": {
     "end_time": "2018-08-04T02:14:50.195207Z",
     "start_time": "2018-08-04T02:14:50.083786Z"
    }
   },
   "outputs": [],
   "source": [
    "SSR = sum(data[\"SSR\"])\n",
    "SSD = sum(data[\"SSD\"])\n",
    "SST = sum(data[\"SST\"])\n"
   ]
  },
  {
   "cell_type": "code",
   "execution_count": 15,
   "metadata": {
    "ExecuteTime": {
     "end_time": "2018-08-04T02:14:50.321656Z",
     "start_time": "2018-08-04T02:14:50.196205Z"
    }
   },
   "outputs": [
    {
     "data": {
      "text/plain": [
       "1896.883183691247"
      ]
     },
     "execution_count": 15,
     "metadata": {},
     "output_type": "execute_result"
    }
   ],
   "source": [
    "SSR\n"
   ]
  },
  {
   "cell_type": "code",
   "execution_count": 16,
   "metadata": {
    "ExecuteTime": {
     "end_time": "2018-08-04T02:14:50.462831Z",
     "start_time": "2018-08-04T02:14:50.323652Z"
    }
   },
   "outputs": [],
   "source": [
    "R2 = SSR/SST"
   ]
  },
  {
   "cell_type": "code",
   "execution_count": 17,
   "metadata": {
    "ExecuteTime": {
     "end_time": "2018-08-04T02:14:50.587220Z",
     "start_time": "2018-08-04T02:14:50.463829Z"
    }
   },
   "outputs": [
    {
     "data": {
      "text/plain": [
       "0.9831711992390983"
      ]
     },
     "execution_count": 17,
     "metadata": {},
     "output_type": "execute_result"
    }
   ],
   "source": [
    "R2"
   ]
  },
  {
   "cell_type": "code",
   "execution_count": 18,
   "metadata": {
    "ExecuteTime": {
     "end_time": "2018-08-04T02:14:50.884136Z",
     "start_time": "2018-08-04T02:14:50.590219Z"
    }
   },
   "outputs": [
    {
     "data": {
      "text/plain": [
       "(array([  2.,   2.,   6.,   6.,  13.,  15.,  23.,  15.,  14.,   4.]),\n",
       " array([-2.79001834, -2.33249516, -1.87497199, -1.41744882, -0.95992564,\n",
       "        -0.50240247, -0.0448793 ,  0.41264388,  0.87016705,  1.32769022,\n",
       "         1.7852134 ]),\n",
       " <a list of 10 Patch objects>)"
      ]
     },
     "execution_count": 18,
     "metadata": {},
     "output_type": "execute_result"
    },
    {
     "data": {
      "image/png": "[encoded data removed]",
      "text/plain": [
       "<Figure size 432x288 with 1 Axes>"
      ]
     },
     "metadata": {},
     "output_type": "display_data"
    }
   ],
   "source": [
    "plt.hist(data[\"y_prediccion\"] - data[\"y_actual\"])"
   ]
  },
  {
   "cell_type": "markdown",
   "metadata": {},
   "source": [
    "# Obteniendo la recta de regresión\n",
    "* y = a + b *x\n",
    "* b = sum((xi - x_m)*(y_1-y_m))/sum((xi-x_m)^2)\n",
    "a = y_m - b*x_m"
   ]
  },
  {
   "cell_type": "code",
   "execution_count": 19,
   "metadata": {
    "ExecuteTime": {
     "end_time": "2018-08-04T02:14:50.893113Z",
     "start_time": "2018-08-04T02:14:50.886131Z"
    }
   },
   "outputs": [
    {
     "data": {
      "text/plain": [
       "(1.2336906579891729, 7.381926170283139)"
      ]
     },
     "execution_count": 19,
     "metadata": {},
     "output_type": "execute_result"
    }
   ],
   "source": [
    "x_mean = np.mean(data[\"x\"])\n",
    "y_mean = np.mean(data[\"y_actual\"])\n",
    "x_mean, y_mean "
   ]
  },
  {
   "cell_type": "code",
   "execution_count": 20,
   "metadata": {
    "ExecuteTime": {
     "end_time": "2018-08-04T02:14:51.038070Z",
     "start_time": "2018-08-04T02:14:50.896134Z"
    }
   },
   "outputs": [],
   "source": [
    "data[\"beta_n\"] = (data[\"x\"] - x_mean) * (data[\"y_actual\"] -y_mean)\n",
    "data[\"beta_d\"] =(data[\"x\"] - x_mean)**2"
   ]
  },
  {
   "cell_type": "code",
   "execution_count": 21,
   "metadata": {
    "ExecuteTime": {
     "end_time": "2018-08-04T02:14:51.136990Z",
     "start_time": "2018-08-04T02:14:51.040065Z"
    }
   },
   "outputs": [],
   "source": [
    "beta = sum(data[\"beta_n\"])/sum(data[\"beta_d\"])"
   ]
  },
  {
   "cell_type": "code",
   "execution_count": 22,
   "metadata": {
    "ExecuteTime": {
     "end_time": "2018-08-04T02:14:51.257299Z",
     "start_time": "2018-08-04T02:14:51.137987Z"
    }
   },
   "outputs": [],
   "source": [
    "alpha = y_mean - beta * x_mean"
   ]
  },
  {
   "cell_type": "code",
   "execution_count": 23,
   "metadata": {
    "ExecuteTime": {
     "end_time": "2018-08-04T02:14:51.355782Z",
     "start_time": "2018-08-04T02:14:51.266282Z"
    }
   },
   "outputs": [
    {
     "data": {
      "text/plain": [
       "(5.073083515163952, 1.871492371420267)"
      ]
     },
     "execution_count": 23,
     "metadata": {},
     "output_type": "execute_result"
    }
   ],
   "source": [
    "alpha, beta"
   ]
  },
  {
   "cell_type": "markdown",
   "metadata": {},
   "source": [
    "# El modelo lineal obtenido por regresion es y = 4.905542928818914 + 1.9388175692900693 * x"
   ]
  },
  {
   "cell_type": "code",
   "execution_count": 24,
   "metadata": {
    "ExecuteTime": {
     "end_time": "2018-08-04T02:14:51.437713Z",
     "start_time": "2018-08-04T02:14:51.358795Z"
    }
   },
   "outputs": [],
   "source": [
    "data[\"y_model\"] = alpha + beta * data[\"x\"]"
   ]
  },
  {
   "cell_type": "code",
   "execution_count": 25,
   "metadata": {
    "ExecuteTime": {
     "end_time": "2018-08-04T02:14:51.556461Z",
     "start_time": "2018-08-04T02:14:51.439591Z"
    }
   },
   "outputs": [
    {
     "data": {
      "text/html": [
       "<div>\n",
       "<style scoped>\n",
       "    .dataframe tbody tr th:only-of-type {\n",
       "        vertical-align: middle;\n",
       "    }\n",
       "\n",
       "    .dataframe tbody tr th {\n",
       "        vertical-align: top;\n",
       "    }\n",
       "\n",
       "    .dataframe thead th {\n",
       "        text-align: right;\n",
       "    }\n",
       "</style>\n",
       "<table border=\"1\" class=\"dataframe\">\n",
       "  <thead>\n",
       "    <tr style=\"text-align: right;\">\n",
       "      <th></th>\n",
       "      <th>x</th>\n",
       "      <th>y_actual</th>\n",
       "      <th>y_prediccion</th>\n",
       "      <th>SSR</th>\n",
       "      <th>SSD</th>\n",
       "      <th>SST</th>\n",
       "      <th>beta_n</th>\n",
       "      <th>beta_d</th>\n",
       "      <th>y_model</th>\n",
       "    </tr>\n",
       "  </thead>\n",
       "  <tbody>\n",
       "    <tr>\n",
       "      <th>0</th>\n",
       "      <td>1.896139</td>\n",
       "      <td>7.434697</td>\n",
       "      <td>8.602664</td>\n",
       "      <td>1.490200</td>\n",
       "      <td>1.364147</td>\n",
       "      <td>0.002785</td>\n",
       "      <td>0.034958</td>\n",
       "      <td>0.438838</td>\n",
       "      <td>8.621693</td>\n",
       "    </tr>\n",
       "    <tr>\n",
       "      <th>1</th>\n",
       "      <td>-0.943266</td>\n",
       "      <td>4.382299</td>\n",
       "      <td>3.207794</td>\n",
       "      <td>17.423380</td>\n",
       "      <td>1.379462</td>\n",
       "      <td>8.997764</td>\n",
       "      <td>6.530060</td>\n",
       "      <td>4.739142</td>\n",
       "      <td>3.307768</td>\n",
       "    </tr>\n",
       "    <tr>\n",
       "      <th>2</th>\n",
       "      <td>4.495870</td>\n",
       "      <td>15.936925</td>\n",
       "      <td>13.542153</td>\n",
       "      <td>37.948397</td>\n",
       "      <td>5.734932</td>\n",
       "      <td>73.188004</td>\n",
       "      <td>27.907941</td>\n",
       "      <td>10.641815</td>\n",
       "      <td>13.487070</td>\n",
       "    </tr>\n",
       "    <tr>\n",
       "      <th>3</th>\n",
       "      <td>-3.116930</td>\n",
       "      <td>-1.231124</td>\n",
       "      <td>-0.922168</td>\n",
       "      <td>68.957976</td>\n",
       "      <td>0.095454</td>\n",
       "      <td>74.184641</td>\n",
       "      <td>37.472119</td>\n",
       "      <td>18.927904</td>\n",
       "      <td>-0.760228</td>\n",
       "    </tr>\n",
       "    <tr>\n",
       "      <th>4</th>\n",
       "      <td>-0.906378</td>\n",
       "      <td>4.940708</td>\n",
       "      <td>3.277882</td>\n",
       "      <td>16.843175</td>\n",
       "      <td>2.764990</td>\n",
       "      <td>5.959545</td>\n",
       "      <td>5.224373</td>\n",
       "      <td>4.579893</td>\n",
       "      <td>3.376805</td>\n",
       "    </tr>\n",
       "  </tbody>\n",
       "</table>\n",
       "</div>"
      ],
      "text/plain": [
       "          x   y_actual  y_prediccion        SSR       SSD        SST  \\\n",
       "0  1.896139   7.434697      8.602664   1.490200  1.364147   0.002785   \n",
       "1 -0.943266   4.382299      3.207794  17.423380  1.379462   8.997764   \n",
       "2  4.495870  15.936925     13.542153  37.948397  5.734932  73.188004   \n",
       "3 -3.116930  -1.231124     -0.922168  68.957976  0.095454  74.184641   \n",
       "4 -0.906378   4.940708      3.277882  16.843175  2.764990   5.959545   \n",
       "\n",
       "      beta_n     beta_d    y_model  \n",
       "0   0.034958   0.438838   8.621693  \n",
       "1   6.530060   4.739142   3.307768  \n",
       "2  27.907941  10.641815  13.487070  \n",
       "3  37.472119  18.927904  -0.760228  \n",
       "4   5.224373   4.579893   3.376805  "
      ]
     },
     "execution_count": 25,
     "metadata": {},
     "output_type": "execute_result"
    }
   ],
   "source": [
    "data.head()"
   ]
  },
  {
   "cell_type": "code",
   "execution_count": 26,
   "metadata": {
    "ExecuteTime": {
     "end_time": "2018-08-04T02:14:51.646758Z",
     "start_time": "2018-08-04T02:14:51.558454Z"
    }
   },
   "outputs": [],
   "source": [
    "SSR = sum((data[\"y_model\"] - y_mean)**2)\n",
    "SSD = sum((data[\"y_prediccion\"] -data[\"y_actual\"])**2)\n",
    "SST = sum((data[\"y_actual\"] - y_mean)**2)\n"
   ]
  },
  {
   "cell_type": "code",
   "execution_count": 27,
   "metadata": {
    "ExecuteTime": {
     "end_time": "2018-08-04T02:14:51.814065Z",
     "start_time": "2018-08-04T02:14:51.647783Z"
    }
   },
   "outputs": [
    {
     "data": {
      "text/plain": [
       "(1840.2490179344761, 89.6735852385352, 1929.35186177066)"
      ]
     },
     "execution_count": 27,
     "metadata": {},
     "output_type": "execute_result"
    }
   ],
   "source": [
    "SSR, SSD , SST"
   ]
  },
  {
   "cell_type": "code",
   "execution_count": 28,
   "metadata": {
    "ExecuteTime": {
     "end_time": "2018-08-04T02:14:51.963719Z",
     "start_time": "2018-08-04T02:14:51.815067Z"
    }
   },
   "outputs": [
    {
     "data": {
      "text/plain": [
       "0.9538172141630973"
      ]
     },
     "execution_count": 28,
     "metadata": {},
     "output_type": "execute_result"
    }
   ],
   "source": [
    "R2 = SSR / SST\n",
    "R2"
   ]
  },
  {
   "cell_type": "code",
   "execution_count": 32,
   "metadata": {
    "ExecuteTime": {
     "end_time": "2018-08-04T02:16:05.763904Z",
     "start_time": "2018-08-04T02:16:05.641221Z"
    }
   },
   "outputs": [
    {
     "data": {
      "text/plain": [
       "Text(0.5,1,'Valor actual vs Prediccion')"
      ]
     },
     "execution_count": 32,
     "metadata": {},
     "output_type": "execute_result"
    },
    {
     "data": {
      "image/png": "[encoded data removed]",
      "text/plain": [
       "<Figure size 432x288 with 1 Axes>"
      ]
     },
     "metadata": {},
     "output_type": "display_data"
    }
   ],
   "source": [
    "y_mean = [np.mean(y_act) for i in range(1, len(x_list) + 1 )]\n",
    "\n",
    "%matplotlib inline\n",
    "plt.plot(data[\"x\"], data[\"y_prediccion\"])\n",
    "plt.plot(data[\"x\"], data[\"y_actual\"], \"ro\")\n",
    "plt.plot(data[\"x\"], y_mean, \"g\")\n",
    "plt.plot(data[\"x\"], data[\"y_model\"])\n",
    "plt.title(\"Valor actual vs Prediccion\")"
   ]
  },
  {
   "cell_type": "markdown",
   "metadata": {},
   "source": [
    "# Error estándar de los residuos(RSE)"
   ]
  },
  {
   "cell_type": "code",
   "execution_count": 30,
   "metadata": {
    "ExecuteTime": {
     "end_time": "2018-08-04T02:15:26.174770Z",
     "start_time": "2018-08-04T02:15:26.169756Z"
    }
   },
   "outputs": [
    {
     "data": {
      "text/plain": [
       "0.9565754460923015"
      ]
     },
     "execution_count": 30,
     "metadata": {},
     "output_type": "execute_result"
    }
   ],
   "source": [
    "RSE = np.sqrt( SSD / (len(data) - 2))\n",
    "RSE"
   ]
  },
  {
   "cell_type": "code",
   "execution_count": 31,
   "metadata": {
    "ExecuteTime": {
     "end_time": "2018-08-04T02:15:49.198461Z",
     "start_time": "2018-08-04T02:15:49.193471Z"
    }
   },
   "outputs": [
    {
     "data": {
      "text/plain": [
       "7.381926170283139"
      ]
     },
     "execution_count": 31,
     "metadata": {},
     "output_type": "execute_result"
    }
   ],
   "source": [
    "np.mean(data[\"y_actual\"])"
   ]
  },
  {
   "cell_type": "code",
   "execution_count": 33,
   "metadata": {
    "ExecuteTime": {
     "end_time": "2018-08-04T02:16:42.641754Z",
     "start_time": "2018-08-04T02:16:42.634770Z"
    }
   },
   "outputs": [
    {
     "data": {
      "text/plain": [
       "0.1295834480088835"
      ]
     },
     "execution_count": 33,
     "metadata": {},
     "output_type": "execute_result"
    }
   ],
   "source": [
    "RSE / np.mean(data[\"y_actual\"])"
   ]
  },
  {
   "cell_type": "code",
   "execution_count": null,
   "metadata": {},
   "outputs": [],
   "source": []
  },
  {
   "cell_type": "code",
   "execution_count": null,
   "metadata": {},
   "outputs": [],
   "source": []
  },
  {
   "cell_type": "code",
   "execution_count": null,
   "metadata": {},
   "outputs": [],
   "source": []
  },
  {
   "cell_type": "code",
   "execution_count": null,
   "metadata": {},
   "outputs": [],
   "source": []
  },
  {
   "cell_type": "code",
   "execution_count": null,
   "metadata": {},
   "outputs": [],
   "source": []
  }
 ],
 "metadata": {
  "kernelspec": {
   "display_name": "Python 3",
   "language": "python",
   "name": "python3"
  },
  "language_info": {
   "codemirror_mode": {
    "name": "ipython",
    "version": 3
   },
   "file_extension": ".py",
   "mimetype": "text/x-python",
   "name": "python",
   "nbconvert_exporter": "python",
   "pygments_lexer": "ipython3",
   "version": "3.6.5"
  },
  "varInspector": {
   "cols": {
    "lenName": 16,
    "lenType": 16,
    "lenVar": 40
   },
   "kernels_config": {
    "python": {
     "delete_cmd_postfix": "",
     "delete_cmd_prefix": "del ",
     "library": "var_list.py",
     "varRefreshCmd": "print(var_dic_list())"
    },
    "r": {
     "delete_cmd_postfix": ") ",
     "delete_cmd_prefix": "rm(",
     "library": "var_list.r",
     "varRefreshCmd": "cat(var_dic_list()) "
    }
   },
   "types_to_exclude": [
    "module",
    "function",
    "builtin_function_or_method",
    "instance",
    "_Feature"
   ],
   "window_display": false
  }
 },
 "nbformat": 4,
 "nbformat_minor": 2
}
